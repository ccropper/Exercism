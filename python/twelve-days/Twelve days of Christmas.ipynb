{
 "cells": [
  {
   "cell_type": "code",
   "execution_count": 12,
   "metadata": {},
   "outputs": [],
   "source": [
    "DAYS = {\n",
    "    1: \"first\",\n",
    "    2: \"second\",\n",
    "    3: \"third\",\n",
    "    4: \"fourth\",\n",
    "    5: \"fifth\",\n",
    "    6: \"sixth\",\n",
    "    7: \"seventh\",\n",
    "    8: \"eighth\",\n",
    "    9: \"ninth\",\n",
    "    10: \"tenth\",\n",
    "    11: \"eleventh\",\n",
    "    12: \"twelfth\"\n",
    "}"
   ]
  },
  {
   "cell_type": "code",
   "execution_count": 13,
   "metadata": {},
   "outputs": [],
   "source": [
    "GIFT_LYRICS = {\n",
    "    1: \"a Partridge in a Pear Tree.\",\n",
    "    2: \"two Turtle Doves, \",\n",
    "    3: \"three French Hens, \",\n",
    "    4: \"four Calling Birds, \",\n",
    "    5: \"five Gold Rings, \",\n",
    "    6: \"six Geese-a-Laying, \",\n",
    "    7: \"seven Swans-a-Swimming, \",\n",
    "    8: \"eight Maids-a-Milking, \",\n",
    "    9: \"nine Ladies Dancing, \",\n",
    "    10: \"ten Lords-a-Leaping, \",\n",
    "    11: \"eleven Pipers Piping, \",\n",
    "    12: \"twelve Drummers Drumming, \"\n",
    "}\n"
   ]
  },
  {
   "cell_type": "code",
   "execution_count": 14,
   "metadata": {},
   "outputs": [
    {
     "data": {
      "text/plain": [
       "'On the first day of Christmas my true love gave to me: '"
      ]
     },
     "execution_count": 14,
     "metadata": {},
     "output_type": "execute_result"
    }
   ],
   "source": [
    "def generate_date_lyrics(day):\n",
    "    return f\"On the {DAYS[day]} day of Christmas my true love gave to me: \"\n",
    "\n",
    "generate_date_lyrics(1)"
   ]
  },
  {
   "cell_type": "code",
   "execution_count": 15,
   "metadata": {},
   "outputs": [
    {
     "data": {
      "text/plain": [
       "'three French Hens, two Turtle Doves, and a Partridge in a Pear Tree.'"
      ]
     },
     "execution_count": 15,
     "metadata": {},
     "output_type": "execute_result"
    }
   ],
   "source": [
    "def generate_gift_lyrics(day):\n",
    "    gift_lyrics = \"\"\n",
    "    for line in range(1, day + 1):\n",
    "        if line == 1 and day != 1:\n",
    "            gift_lyrics = \"and \" + GIFT_LYRICS[line] + gift_lyrics\n",
    "        else: \n",
    "            gift_lyrics = GIFT_LYRICS[line] + gift_lyrics\n",
    "    return gift_lyrics\n",
    "\n",
    "generate_gift_lyric(3)"
   ]
  },
  {
   "cell_type": "code",
   "execution_count": 16,
   "metadata": {},
   "outputs": [
    {
     "data": {
      "text/plain": [
       "['On the second day of Christmas my true love gave to me: two Turtle Doves, and a Partridge in a Pear Tree.',\n",
       " 'On the third day of Christmas my true love gave to me: three French Hens, two Turtle Doves, and a Partridge in a Pear Tree.']"
      ]
     },
     "execution_count": 16,
     "metadata": {},
     "output_type": "execute_result"
    }
   ],
   "source": [
    "def recite(start_verse, end_verse):\n",
    "    requested_lyrics = []\n",
    "    for day in range(start_verse, end_verse + 1):\n",
    "        requested_lyrics.append(generate_date_lyrics(day) + generate_gift_lyrics(day))\n",
    "    return requested_lyrics\n",
    "\n",
    "recite(2,3)"
   ]
  },
  {
   "cell_type": "code",
   "execution_count": null,
   "metadata": {},
   "outputs": [],
   "source": []
  },
  {
   "cell_type": "code",
   "execution_count": null,
   "metadata": {},
   "outputs": [],
   "source": []
  }
 ],
 "metadata": {
  "kernelspec": {
   "display_name": "Python 3",
   "language": "python",
   "name": "python3"
  },
  "language_info": {
   "codemirror_mode": {
    "name": "ipython",
    "version": 3
   },
   "file_extension": ".py",
   "mimetype": "text/x-python",
   "name": "python",
   "nbconvert_exporter": "python",
   "pygments_lexer": "ipython3",
   "version": "3.6.4"
  }
 },
 "nbformat": 4,
 "nbformat_minor": 2
}
